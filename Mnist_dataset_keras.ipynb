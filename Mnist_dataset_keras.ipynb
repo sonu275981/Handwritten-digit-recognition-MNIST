{
 "cells": [
  {
   "cell_type": "code",
   "execution_count": 48,
   "metadata": {},
   "outputs": [],
   "source": [
    "from keras.datasets import mnist\n",
    "import matplotlib.pyplot as plt\n",
    "import tensorflow as tf\n",
    "from tensorflow import keras\n",
    "import numpy as np"
   ]
  },
  {
   "cell_type": "code",
   "execution_count": 49,
   "metadata": {},
   "outputs": [],
   "source": [
    "(x_train,y_train),(x_test,y_test) = mnist.load_data()"
   ]
  },
  {
   "cell_type": "code",
   "execution_count": 50,
   "metadata": {},
   "outputs": [
    {
     "data": {
      "text/plain": [
       "(60000, 28, 28)"
      ]
     },
     "execution_count": 50,
     "metadata": {},
     "output_type": "execute_result"
    }
   ],
   "source": [
    "x_train.shape"
   ]
  },
  {
   "cell_type": "code",
   "execution_count": 51,
   "metadata": {},
   "outputs": [
    {
     "data": {
      "text/plain": [
       "<matplotlib.image.AxesImage at 0x189ce084e50>"
      ]
     },
     "execution_count": 51,
     "metadata": {},
     "output_type": "execute_result"
    },
    {
     "data": {
      "image/png": "[encoded data removed]",
      "text/plain": [
       "<Figure size 432x288 with 1 Axes>"
      ]
     },
     "metadata": {
      "needs_background": "light"
     },
     "output_type": "display_data"
    }
   ],
   "source": [
    "plt.imshow(x_train[5])"
   ]
  },
  {
   "cell_type": "markdown",
   "metadata": {},
   "source": [
    "Reshaping the array to 4-dims so that it can work with the Keras API"
   ]
  },
  {
   "cell_type": "code",
   "execution_count": 52,
   "metadata": {},
   "outputs": [],
   "source": [
    "x_train = x_train.reshape(x_train.shape[0], 28, 28, 1)\n",
    "x_test = x_test.reshape(x_test.shape[0], 28, 28, 1)"
   ]
  },
  {
   "cell_type": "markdown",
   "metadata": {},
   "source": [
    "Normalizing the dataset for better result by Converting the pixel values of the dataset into value of (o,1)"
   ]
  },
  {
   "cell_type": "code",
   "execution_count": 53,
   "metadata": {},
   "outputs": [],
   "source": [
    "x_train = x_train/255\n",
    "x_test = x_test/255"
   ]
  },
  {
   "cell_type": "code",
   "execution_count": 54,
   "metadata": {},
   "outputs": [],
   "source": [
    "from keras.models import Sequential\n",
    "from keras.layers import Dense\n",
    "from keras.layers import Dropout\n",
    "from keras.layers import Flatten\n",
    "from keras.layers.convolutional import Conv2D\n",
    "from keras.layers.convolutional import MaxPooling2D\n",
    "import numpy as np"
   ]
  },
  {
   "cell_type": "markdown",
   "metadata": {},
   "source": [
    "initialize the CNN"
   ]
  },
  {
   "cell_type": "code",
   "execution_count": 55,
   "metadata": {},
   "outputs": [],
   "source": [
    "model = Sequential()\n",
    "model.add(Conv2D(64,kernel_size = (3,3), activation='relu', input_shape = (28,28,1)))\n",
    "model.add(MaxPooling2D(pool_size=(2,2)))\n",
    "\n",
    "model.add(Conv2D(64,kernel_size = (3,3), activation='relu'))\n",
    "model.add(MaxPooling2D(pool_size=(2,2)))\n",
    "\n",
    "model.add(Flatten())\n",
    "\n",
    "model.add(Dense(128,activation='relu'))\n",
    "model.add(Dense(10,activation='softmax'))"
   ]
  },
  {
   "cell_type": "code",
   "execution_count": 56,
   "metadata": {},
   "outputs": [
    {
     "name": "stdout",
     "output_type": "stream",
     "text": [
      "Model: \"sequential_3\"\n",
      "_________________________________________________________________\n",
      "Layer (type)                 Output Shape              Param #   \n",
      "=================================================================\n",
      "conv2d_6 (Conv2D)            (None, 26, 26, 64)        640       \n",
      "_________________________________________________________________\n",
      "max_pooling2d_6 (MaxPooling2 (None, 13, 13, 64)        0         \n",
      "_________________________________________________________________\n",
      "conv2d_7 (Conv2D)            (None, 11, 11, 64)        36928     \n",
      "_________________________________________________________________\n",
      "max_pooling2d_7 (MaxPooling2 (None, 5, 5, 64)          0         \n",
      "_________________________________________________________________\n",
      "flatten_3 (Flatten)          (None, 1600)              0         \n",
      "_________________________________________________________________\n",
      "dense_6 (Dense)              (None, 128)               204928    \n",
      "_________________________________________________________________\n",
      "dense_7 (Dense)              (None, 10)                1290      \n",
      "=================================================================\n",
      "Total params: 243,786\n",
      "Trainable params: 243,786\n",
      "Non-trainable params: 0\n",
      "_________________________________________________________________\n"
     ]
    }
   ],
   "source": [
    "model.summary()"
   ]
  },
  {
   "cell_type": "code",
   "execution_count": 57,
   "metadata": {},
   "outputs": [],
   "source": [
    "model.compile(loss='sparse_categorical_crossentropy',optimizer='adam', metrics=['accuracy'])"
   ]
  },
  {
   "cell_type": "markdown",
   "metadata": {},
   "source": [
    "Implimenting TensorBoard"
   ]
  },
  {
   "cell_type": "code",
   "execution_count": 58,
   "metadata": {},
   "outputs": [],
   "source": [
    "tb = tf.keras.callbacks.TensorBoard(log_dir = \"logs/\", histogram_freq=1)"
   ]
  },
  {
   "cell_type": "code",
   "execution_count": 59,
   "metadata": {},
   "outputs": [
    {
     "name": "stdout",
     "output_type": "stream",
     "text": [
      "Epoch 1/20\n",
      "1875/1875 [==============================] - 9s 5ms/step - loss: 0.1192 - accuracy: 0.9635 - val_loss: 0.0549 - val_accuracy: 0.9830\n",
      "Epoch 2/20\n",
      "1875/1875 [==============================] - 9s 5ms/step - loss: 0.0407 - accuracy: 0.9874 - val_loss: 0.0319 - val_accuracy: 0.9872\n",
      "Epoch 3/20\n",
      "1875/1875 [==============================] - 9s 5ms/step - loss: 0.0272 - accuracy: 0.9908 - val_loss: 0.0325 - val_accuracy: 0.9884\n",
      "Epoch 4/20\n",
      "1875/1875 [==============================] - 9s 5ms/step - loss: 0.0193 - accuracy: 0.9942 - val_loss: 0.0282 - val_accuracy: 0.9911\n",
      "Epoch 5/20\n",
      "1875/1875 [==============================] - 9s 5ms/step - loss: 0.0156 - accuracy: 0.9949 - val_loss: 0.0280 - val_accuracy: 0.9915\n",
      "Epoch 6/20\n",
      "1875/1875 [==============================] - 9s 5ms/step - loss: 0.0126 - accuracy: 0.9962 - val_loss: 0.0341 - val_accuracy: 0.9907\n",
      "Epoch 7/20\n",
      "1875/1875 [==============================] - 9s 5ms/step - loss: 0.0099 - accuracy: 0.9966 - val_loss: 0.0366 - val_accuracy: 0.9890\n",
      "Epoch 8/20\n",
      "1875/1875 [==============================] - 9s 5ms/step - loss: 0.0079 - accuracy: 0.9973 - val_loss: 0.0370 - val_accuracy: 0.9898\n",
      "Epoch 9/20\n",
      "1875/1875 [==============================] - 9s 5ms/step - loss: 0.0069 - accuracy: 0.9975 - val_loss: 0.0385 - val_accuracy: 0.9908\n",
      "Epoch 10/20\n",
      "1875/1875 [==============================] - 9s 5ms/step - loss: 0.0064 - accuracy: 0.9979 - val_loss: 0.0489 - val_accuracy: 0.9898\n",
      "Epoch 11/20\n",
      "1875/1875 [==============================] - 9s 5ms/step - loss: 0.0062 - accuracy: 0.9981 - val_loss: 0.0371 - val_accuracy: 0.9911\n",
      "Epoch 12/20\n",
      "1875/1875 [==============================] - 9s 5ms/step - loss: 0.0054 - accuracy: 0.9981 - val_loss: 0.0385 - val_accuracy: 0.9921\n",
      "Epoch 13/20\n",
      "1875/1875 [==============================] - 9s 5ms/step - loss: 0.0042 - accuracy: 0.9986 - val_loss: 0.0467 - val_accuracy: 0.9902\n",
      "Epoch 14/20\n",
      "1875/1875 [==============================] - 9s 5ms/step - loss: 0.0038 - accuracy: 0.9988 - val_loss: 0.0440 - val_accuracy: 0.9901\n",
      "Epoch 15/20\n",
      "1875/1875 [==============================] - 9s 5ms/step - loss: 0.0046 - accuracy: 0.9986 - val_loss: 0.0475 - val_accuracy: 0.9908\n",
      "Epoch 16/20\n",
      "1875/1875 [==============================] - 9s 5ms/step - loss: 0.0044 - accuracy: 0.9986 - val_loss: 0.0330 - val_accuracy: 0.9926\n",
      "Epoch 17/20\n",
      "1875/1875 [==============================] - 9s 5ms/step - loss: 0.0035 - accuracy: 0.9991 - val_loss: 0.0353 - val_accuracy: 0.9910\n",
      "Epoch 18/20\n",
      "1875/1875 [==============================] - 9s 5ms/step - loss: 0.0030 - accuracy: 0.9991 - val_loss: 0.0520 - val_accuracy: 0.9905\n",
      "Epoch 19/20\n",
      "1875/1875 [==============================] - 9s 5ms/step - loss: 0.0043 - accuracy: 0.9987 - val_loss: 0.0452 - val_accuracy: 0.9917\n",
      "Epoch 20/20\n",
      "1875/1875 [==============================] - 9s 5ms/step - loss: 0.0032 - accuracy: 0.9992 - val_loss: 0.0471 - val_accuracy: 0.9912\n"
     ]
    },
    {
     "data": {
      "text/plain": [
       "<keras.callbacks.History at 0x189ce0a1eb0>"
      ]
     },
     "execution_count": 59,
     "metadata": {},
     "output_type": "execute_result"
    }
   ],
   "source": [
    "model.fit(x_train,y_train,validation_data=(x_test,y_test),epochs=20,batch_size=32, callbacks= [tb])"
   ]
  },
  {
   "cell_type": "code",
   "execution_count": 60,
   "metadata": {},
   "outputs": [
    {
     "name": "stdout",
     "output_type": "stream",
     "text": [
      "313/313 [==============================] - 1s 3ms/step - loss: 0.0471 - accuracy: 0.9912\n"
     ]
    },
    {
     "data": {
      "text/plain": [
       "[0.047077424824237823, 0.9911999702453613]"
      ]
     },
     "execution_count": 60,
     "metadata": {},
     "output_type": "execute_result"
    }
   ],
   "source": [
    "model.evaluate(x_test, y_test)"
   ]
  },
  {
   "cell_type": "markdown",
   "metadata": {},
   "source": [
    "Use below command in command prompt from same folder to run tensorboard\n",
    "\n",
    "tensorboard --logdir logs/               \n",
    "\n",
    "logs/ is folder name"
   ]
  },
  {
   "cell_type": "code",
   "execution_count": 61,
   "metadata": {},
   "outputs": [
    {
     "name": "stdout",
     "output_type": "stream",
     "text": [
      "The tensorboard extension is already loaded. To reload it, use:\n",
      "  %reload_ext tensorboard\n"
     ]
    }
   ],
   "source": []
  },
  {
   "cell_type": "code",
   "execution_count": null,
   "metadata": {},
   "outputs": [],
   "source": []
  }
 ],
 "metadata": {
  "kernelspec": {
   "display_name": "Python 3",
   "language": "python",
   "name": "python3"
  },
  "language_info": {
   "codemirror_mode": {
    "name": "ipython",
    "version": 3
   },
   "file_extension": ".py",
   "mimetype": "text/x-python",
   "name": "python",
   "nbconvert_exporter": "python",
   "pygments_lexer": "ipython3",
   "version": "3.8.8"
  }
 },
 "nbformat": 4,
 "nbformat_minor": 4
}
